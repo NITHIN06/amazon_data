{
 "cells": [
  {
   "cell_type": "code",
   "execution_count": 80,
   "id": "a1aa88b2",
   "metadata": {},
   "outputs": [],
   "source": [
    "%%capture\n",
    "!pip install bs4 requests pandas"
   ]
  },
  {
   "cell_type": "code",
   "execution_count": 127,
   "id": "00474f3f",
   "metadata": {},
   "outputs": [],
   "source": [
    "from bs4 import BeautifulSoup\n",
    "import numpy as np\n",
    "import pandas as pd\n",
    "import requests"
   ]
  },
  {
   "cell_type": "code",
   "execution_count": 82,
   "id": "424c140a",
   "metadata": {},
   "outputs": [],
   "source": [
    "url = 'https://www.amazon.in/s?k=phones&ref=nb_sb_noss_1'\n",
    "HEADERS = ({'User-Agent':'Mozilla/5.0 (Windows NT 10.0; Win64; x64) AppleWebKit/537.36 (KHTML, like Gecko) Chrome/108.0.0.0 Safari/537.36',\n",
    "            'Accept-Language':'en-US, en;q=0.5'})"
   ]
  },
  {
   "cell_type": "code",
   "execution_count": 83,
   "id": "9449888e",
   "metadata": {},
   "outputs": [
    {
     "data": {
      "text/plain": [
       "<Response [200]>"
      ]
     },
     "execution_count": 83,
     "metadata": {},
     "output_type": "execute_result"
    }
   ],
   "source": [
    "# HTTP req\n",
    "webpage = requests.get(url, headers=HEADERS)\n",
    "webpage"
   ]
  },
  {
   "cell_type": "code",
   "execution_count": 84,
   "id": "bfd995ff",
   "metadata": {},
   "outputs": [],
   "source": [
    "soup = BeautifulSoup(webpage.content, 'html.parser')"
   ]
  },
  {
   "cell_type": "code",
   "execution_count": 85,
   "id": "23d0953c",
   "metadata": {},
   "outputs": [
    {
     "data": {
      "text/plain": [
       "'/sspa/click?ie=UTF8&spc=MTo1NzYyMjY4NjM3MDI0MjQ6MTY3MDY1Njk2NDpzcF9hdGY6MjAwNDU5MDE0OTcyOTg6OjA6Og&url=%2FSamsung-Mystique-Storage-Purchased-Separately%2Fdp%2FB09XJ48QPR%2Fref%3Dsr_1_1_sspa%3Fkeywords%3Dphones%26qid%3D1670656964%26sr%3D8-1-spons%26sp_csd%3Dd2lkZ2V0TmFtZT1zcF9hdGY%26psc%3D1'"
      ]
     },
     "execution_count": 85,
     "metadata": {},
     "output_type": "execute_result"
    }
   ],
   "source": [
    "links = soup.find_all(\"a\", attrs={'class': 'a-link-normal s-underline-text s-underline-link-text s-link-style a-text-normal'})\n",
    "links[0].get('href')"
   ]
  },
  {
   "cell_type": "code",
   "execution_count": 115,
   "id": "341d7f71",
   "metadata": {},
   "outputs": [
    {
     "data": {
      "text/plain": [
       "'https://www.amazon.in/Samsung-Galaxy-Storage-6000mAh-Battery/dp/B0B4F2XCK3/ref=sr_1_10?keywords=phones&qid=1670656964&sr=8-10'"
      ]
     },
     "execution_count": 115,
     "metadata": {},
     "output_type": "execute_result"
    }
   ],
   "source": [
    "product_list = \"https://www.amazon.in\"+links[10].get('href')\n",
    "product_list"
   ]
  },
  {
   "cell_type": "code",
   "execution_count": 116,
   "id": "7403c429",
   "metadata": {},
   "outputs": [
    {
     "data": {
      "text/plain": [
       "<Response [200]>"
      ]
     },
     "execution_count": 116,
     "metadata": {},
     "output_type": "execute_result"
    }
   ],
   "source": [
    "product1 = requests.get(product_list,headers=HEADERS)\n",
    "product1"
   ]
  },
  {
   "cell_type": "code",
   "execution_count": 117,
   "id": "dbbb9eaf",
   "metadata": {},
   "outputs": [],
   "source": [
    "product_content = BeautifulSoup(product1.content, 'html.parser')"
   ]
  },
  {
   "cell_type": "code",
   "execution_count": 118,
   "id": "55ce4dc6",
   "metadata": {},
   "outputs": [
    {
     "data": {
      "text/plain": [
       "'Samsung Galaxy M13 (Aqua Green, 6GB, 128GB Storage) | 6000mAh Battery | Upto 12GB RAM with RAM Plus'"
      ]
     },
     "execution_count": 118,
     "metadata": {},
     "output_type": "execute_result"
    }
   ],
   "source": [
    "product_content.find('span', attrs={\"id\":\"productTitle\"}).text.strip()"
   ]
  },
  {
   "cell_type": "code",
   "execution_count": 119,
   "id": "e6f7ee56",
   "metadata": {},
   "outputs": [],
   "source": [
    "price = product_content.find('span',attrs={\"class\":\"a-price-whole\"}).text"
   ]
  },
  {
   "cell_type": "code",
   "execution_count": 120,
   "id": "42dd766b",
   "metadata": {},
   "outputs": [],
   "source": [
    "rating = product_content.find('span',attrs={\"class\":\"reviewCountTextLinkedHistogram noUnderline\"}).attrs[\"title\"]"
   ]
  },
  {
   "cell_type": "code",
   "execution_count": 133,
   "id": "d6b0c7d1",
   "metadata": {},
   "outputs": [
    {
     "data": {
      "text/plain": [
       "'16,282 ratings'"
      ]
     },
     "execution_count": 133,
     "metadata": {},
     "output_type": "execute_result"
    }
   ],
   "source": [
    "product_content.find(\"span\",attrs={\"id\":\"acrCustomerReviewText\"}).text"
   ]
  },
  {
   "cell_type": "code",
   "execution_count": 134,
   "id": "be074588",
   "metadata": {},
   "outputs": [],
   "source": [
    "def getTitle(soup):\n",
    "    title = \"\"\n",
    "    try:\n",
    "        title = soup.find('span', attrs={\"id\":\"productTitle\"}).text.strip()\n",
    "    except:\n",
    "        title = \"\"\n",
    "    return title\n",
    "\n",
    "def getPrice(soup):\n",
    "    try:\n",
    "        price = soup.find('span',attrs={\"class\":\"a-price-whole\"}).text\n",
    "    except:\n",
    "        price=\"\"\n",
    "    return price\n",
    "\n",
    "def getRating(soup):\n",
    "    try:\n",
    "        rating = soup.find('span',attrs={\"class\":\"reviewCountTextLinkedHistogram noUnderline\"}).attrs[\"title\"]\n",
    "    except:\n",
    "        rating = \"\"\n",
    "    return rating\n",
    "\n",
    "def getReviewcount(soup):\n",
    "    try:\n",
    "        count = soup.find(\"span\",attrs={\"id\":\"acrCustomerReviewText\"}).text\n",
    "    except:\n",
    "        count = \"\"\n",
    "    return count"
   ]
  },
  {
   "cell_type": "code",
   "execution_count": 137,
   "id": "d62f5f71",
   "metadata": {},
   "outputs": [],
   "source": [
    "if __name__=='__main__':\n",
    "    url = 'https://www.amazon.in/s?k=ps5&crid=2TKYYQXVBLGWU&sprefix=ps5%2Caps%2C441&ref=nb_sb_noss_1'\n",
    "    \n",
    "    HEADERS = ({'User-Agent':'Mozilla/5.0 (Windows NT 10.0; Win64; x64) AppleWebKit/537.36 (KHTML, like Gecko) Chrome/108.0.0.0 Safari/537.36',\n",
    "            'Accept-Language':'en-US, en;q=0.5'})\n",
    "    \n",
    "    webpage = requests.get(url, headers=HEADERS)\n",
    "    \n",
    "    soup = BeautifulSoup(webpage.content, 'html.parser')\n",
    "    \n",
    "    links = soup.find_all(\"a\", attrs={'class': 'a-link-normal s-underline-text s-underline-link-text s-link-style a-text-normal'})\n",
    "    \n",
    "    product_links = []\n",
    "    for link in links:\n",
    "        product_links.append(\"https://www.amazon.in\"+link.get('href'))\n",
    "    \n",
    "    d = {\"title\":[], \"price\":[], \"rating\":[], \"review\":[]}\n",
    "    for link in product_links:\n",
    "        product = requests.get(link,headers=HEADERS)\n",
    "        content = BeautifulSoup(product.content,'html.parser')\n",
    "        \n",
    "        d['title'].append(getTitle(content))\n",
    "        d['price'].append(getPrice(content))\n",
    "        d['rating'].append(getRating(content))\n",
    "        d['review'].append(getReviewcount(content))\n",
    "\n",
    "        amazon_df = pd.DataFrame.from_dict(d)\n",
    "        amazon_df['title'].replace('', np.nan,inplace=True)\n",
    "        amazon_df = amazon_df.dropna(subset=['title'])\n",
    "        amazon_df.to_csv(\"amazon_data.csv\", header=True, index=False)"
   ]
  },
  {
   "cell_type": "code",
   "execution_count": 138,
   "id": "1083a46a",
   "metadata": {},
   "outputs": [
    {
     "data": {
      "text/html": [
       "<div>\n",
       "<style scoped>\n",
       "    .dataframe tbody tr th:only-of-type {\n",
       "        vertical-align: middle;\n",
       "    }\n",
       "\n",
       "    .dataframe tbody tr th {\n",
       "        vertical-align: top;\n",
       "    }\n",
       "\n",
       "    .dataframe thead th {\n",
       "        text-align: right;\n",
       "    }\n",
       "</style>\n",
       "<table border=\"1\" class=\"dataframe\">\n",
       "  <thead>\n",
       "    <tr style=\"text-align: right;\">\n",
       "      <th></th>\n",
       "      <th>title</th>\n",
       "      <th>price</th>\n",
       "      <th>rating</th>\n",
       "      <th>review</th>\n",
       "    </tr>\n",
       "  </thead>\n",
       "  <tbody>\n",
       "    <tr>\n",
       "      <th>0</th>\n",
       "      <td>God Of War Ragnarok | Launch Edition | PS5 Gam...</td>\n",
       "      <td>4,999.</td>\n",
       "      <td>4.5 out of 5 stars</td>\n",
       "      <td>82 ratings</td>\n",
       "    </tr>\n",
       "    <tr>\n",
       "      <th>1</th>\n",
       "      <td>Call Of Duty : Modern Warfare II | Standard Ed...</td>\n",
       "      <td>4,999.</td>\n",
       "      <td>3.9 out of 5 stars</td>\n",
       "      <td>7 ratings</td>\n",
       "    </tr>\n",
       "    <tr>\n",
       "      <th>2</th>\n",
       "      <td>Sony DualSense Wireless Controller for PlaySta...</td>\n",
       "      <td>5,098.</td>\n",
       "      <td>4.5 out of 5 stars</td>\n",
       "      <td>2,301 ratings</td>\n",
       "    </tr>\n",
       "    <tr>\n",
       "      <th>3</th>\n",
       "      <td>PS5 God of War: Ragnarok Collector's Edition</td>\n",
       "      <td>13,499.</td>\n",
       "      <td>4.1 out of 5 stars</td>\n",
       "      <td>4 ratings</td>\n",
       "    </tr>\n",
       "    <tr>\n",
       "      <th>4</th>\n",
       "      <td>PS5 Grand Theft Auto V</td>\n",
       "      <td>2,213.</td>\n",
       "      <td>4.4 out of 5 stars</td>\n",
       "      <td>98 ratings</td>\n",
       "    </tr>\n",
       "    <tr>\n",
       "      <th>5</th>\n",
       "      <td>Horizon Forbidden West | Standard Edition | PS...</td>\n",
       "      <td>2,684.</td>\n",
       "      <td>4.7 out of 5 stars</td>\n",
       "      <td>603 ratings</td>\n",
       "    </tr>\n",
       "    <tr>\n",
       "      <th>6</th>\n",
       "      <td>PS5 WWE 2K22</td>\n",
       "      <td>2,299.</td>\n",
       "      <td>4.2 out of 5 stars</td>\n",
       "      <td>51 ratings</td>\n",
       "    </tr>\n",
       "    <tr>\n",
       "      <th>7</th>\n",
       "      <td>FIFA 23 | Standard Edition | PS5 (PlayStation 5)</td>\n",
       "      <td>4,110.</td>\n",
       "      <td>4.6 out of 5 stars</td>\n",
       "      <td>38 ratings</td>\n",
       "    </tr>\n",
       "    <tr>\n",
       "      <th>8</th>\n",
       "      <td>Cricket 22 | International Edition | PS5 (Play...</td>\n",
       "      <td>2,176.</td>\n",
       "      <td>3.9 out of 5 stars</td>\n",
       "      <td>92 ratings</td>\n",
       "    </tr>\n",
       "    <tr>\n",
       "      <th>9</th>\n",
       "      <td>Sony Marvel's Spider-Man: Miles Morales (PS5)</td>\n",
       "      <td>2,268.</td>\n",
       "      <td>4.5 out of 5 stars</td>\n",
       "      <td>2,609 ratings</td>\n",
       "    </tr>\n",
       "    <tr>\n",
       "      <th>10</th>\n",
       "      <td>WALLTON PS5 Skin Protective Wrap Cover Vinyl S...</td>\n",
       "      <td>899.</td>\n",
       "      <td>3.5 out of 5 stars</td>\n",
       "      <td>3 ratings</td>\n",
       "    </tr>\n",
       "    <tr>\n",
       "      <th>11</th>\n",
       "      <td>WALLTON PS5 Skin Protective Wrap Cover Vinyl S...</td>\n",
       "      <td>699.</td>\n",
       "      <td>5.0 out of 5 stars</td>\n",
       "      <td>1 rating</td>\n",
       "    </tr>\n",
       "    <tr>\n",
       "      <th>12</th>\n",
       "      <td>Gran Turismo 7 | Standard Edition | PS5 Game (...</td>\n",
       "      <td>2,697.</td>\n",
       "      <td>4.1 out of 5 stars</td>\n",
       "      <td>120 ratings</td>\n",
       "    </tr>\n",
       "    <tr>\n",
       "      <th>13</th>\n",
       "      <td>New World Storage Bag for PS5 , Travel Bag for...</td>\n",
       "      <td>2,624.</td>\n",
       "      <td>4.4 out of 5 stars</td>\n",
       "      <td>45 ratings</td>\n",
       "    </tr>\n",
       "    <tr>\n",
       "      <th>14</th>\n",
       "      <td>Unchartered: Legacy of Thieves Collection | PS...</td>\n",
       "      <td>1,499.</td>\n",
       "      <td>4.3 out of 5 stars</td>\n",
       "      <td>149 ratings</td>\n",
       "    </tr>\n",
       "    <tr>\n",
       "      <th>15</th>\n",
       "      <td>PS5 Mortal Kombat 11: Ultimate</td>\n",
       "      <td>1,599.</td>\n",
       "      <td>4.4 out of 5 stars</td>\n",
       "      <td>82 ratings</td>\n",
       "    </tr>\n",
       "    <tr>\n",
       "      <th>16</th>\n",
       "      <td>New World For PS5 Vertical Stand for PS5 Digit...</td>\n",
       "      <td>2,399.</td>\n",
       "      <td>3.7 out of 5 stars</td>\n",
       "      <td>35 ratings</td>\n",
       "    </tr>\n",
       "    <tr>\n",
       "      <th>17</th>\n",
       "      <td>DualSense™ charging station - (PlayStation®5)</td>\n",
       "      <td>2,499.</td>\n",
       "      <td>4.7 out of 5 stars</td>\n",
       "      <td>296 ratings</td>\n",
       "    </tr>\n",
       "  </tbody>\n",
       "</table>\n",
       "</div>"
      ],
      "text/plain": [
       "                                                title    price  \\\n",
       "0   God Of War Ragnarok | Launch Edition | PS5 Gam...   4,999.   \n",
       "1   Call Of Duty : Modern Warfare II | Standard Ed...   4,999.   \n",
       "2   Sony DualSense Wireless Controller for PlaySta...   5,098.   \n",
       "3        PS5 God of War: Ragnarok Collector's Edition  13,499.   \n",
       "4                              PS5 Grand Theft Auto V   2,213.   \n",
       "5   Horizon Forbidden West | Standard Edition | PS...   2,684.   \n",
       "6                                        PS5 WWE 2K22   2,299.   \n",
       "7    FIFA 23 | Standard Edition | PS5 (PlayStation 5)   4,110.   \n",
       "8   Cricket 22 | International Edition | PS5 (Play...   2,176.   \n",
       "9       Sony Marvel's Spider-Man: Miles Morales (PS5)   2,268.   \n",
       "10  WALLTON PS5 Skin Protective Wrap Cover Vinyl S...     899.   \n",
       "11  WALLTON PS5 Skin Protective Wrap Cover Vinyl S...     699.   \n",
       "12  Gran Turismo 7 | Standard Edition | PS5 Game (...   2,697.   \n",
       "13  New World Storage Bag for PS5 , Travel Bag for...   2,624.   \n",
       "14  Unchartered: Legacy of Thieves Collection | PS...   1,499.   \n",
       "15                     PS5 Mortal Kombat 11: Ultimate   1,599.   \n",
       "16  New World For PS5 Vertical Stand for PS5 Digit...   2,399.   \n",
       "17      DualSense™ charging station - (PlayStation®5)   2,499.   \n",
       "\n",
       "                rating         review  \n",
       "0   4.5 out of 5 stars     82 ratings  \n",
       "1   3.9 out of 5 stars      7 ratings  \n",
       "2   4.5 out of 5 stars  2,301 ratings  \n",
       "3   4.1 out of 5 stars      4 ratings  \n",
       "4   4.4 out of 5 stars     98 ratings  \n",
       "5   4.7 out of 5 stars    603 ratings  \n",
       "6   4.2 out of 5 stars     51 ratings  \n",
       "7   4.6 out of 5 stars     38 ratings  \n",
       "8   3.9 out of 5 stars     92 ratings  \n",
       "9   4.5 out of 5 stars  2,609 ratings  \n",
       "10  3.5 out of 5 stars      3 ratings  \n",
       "11  5.0 out of 5 stars       1 rating  \n",
       "12  4.1 out of 5 stars    120 ratings  \n",
       "13  4.4 out of 5 stars     45 ratings  \n",
       "14  4.3 out of 5 stars    149 ratings  \n",
       "15  4.4 out of 5 stars     82 ratings  \n",
       "16  3.7 out of 5 stars     35 ratings  \n",
       "17  4.7 out of 5 stars    296 ratings  "
      ]
     },
     "execution_count": 138,
     "metadata": {},
     "output_type": "execute_result"
    }
   ],
   "source": [
    "amazon_df"
   ]
  },
  {
   "cell_type": "code",
   "execution_count": null,
   "id": "4a8c5248",
   "metadata": {},
   "outputs": [],
   "source": []
  }
 ],
 "metadata": {
  "kernelspec": {
   "display_name": "Python 3 (ipykernel)",
   "language": "python",
   "name": "python3"
  },
  "language_info": {
   "codemirror_mode": {
    "name": "ipython",
    "version": 3
   },
   "file_extension": ".py",
   "mimetype": "text/x-python",
   "name": "python",
   "nbconvert_exporter": "python",
   "pygments_lexer": "ipython3",
   "version": "3.10.5"
  }
 },
 "nbformat": 4,
 "nbformat_minor": 5
}
